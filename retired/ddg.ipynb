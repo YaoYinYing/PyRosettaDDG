{
 "cells": [
  {
   "cell_type": "code",
   "execution_count": 51,
   "id": "ff91b7cf-52fc-4dc3-a6fe-1f20a55ed804",
   "metadata": {
    "trusted": true
   },
   "outputs": [
    {
     "name": "stderr",
     "output_type": "stream",
     "text": "/tmp/ipykernel_50477/890472880.py:13: UserWarning: Import of 'rosetta' as a top-level module is deprecated and may be removed in 2018, import via 'pyrosetta.rosetta'.\n  from rosetta.core.kinematics import MoveMap\n"
    },
    {
     "name": "stdout",
     "output_type": "stream",
     "text": "PyRosetta-4 2021 [Rosetta PyRosetta4.Release.python38.linux 2021.45+release.b2be42856e92b441d5d806df7b34ab4d77e39eed 2021-11-10T12:38:05] retrieved from: http://www.pyrosetta.org\n(C) Copyright Rosetta Commons Member Institutions. Created in JHU by Sergey Lyskov and PyRosetta Team.\n"
    }
   ],
   "source": [
    "from pyrosetta.rosetta.core.pack.task import *\n",
    "from pyrosetta.rosetta.protocols import *\n",
    "from pyrosetta.rosetta.core.select import *\n",
    "\n",
    "#Python\n",
    "from pyrosetta import *\n",
    "from pyrosetta.rosetta import *\n",
    "from pyrosetta.teaching import *\n",
    "\n",
    "import multiprocessing\n",
    "\n",
    "#Core Includes\n",
    "from rosetta.core.kinematics import MoveMap\n",
    "from rosetta.core.kinematics import FoldTree\n",
    "from rosetta.core.pack.task import TaskFactory\n",
    "from rosetta.core.pack.task import operation\n",
    "from rosetta.core.simple_metrics import metrics\n",
    "from rosetta.core.select import residue_selector as selections\n",
    "from rosetta.core import select\n",
    "from rosetta.core.select.movemap import *\n",
    "\n",
    "#Protocol Includes\n",
    "from rosetta.protocols import minimization_packing as pack_min\n",
    "from rosetta.protocols import relax as rel\n",
    "from rosetta.protocols.antibody.residue_selector import CDRResidueSelector\n",
    "from rosetta.protocols.antibody import *\n",
    "from rosetta.protocols.loops import *\n",
    "from rosetta.protocols.relax import FastRelax\n",
    "import multiprocessing\n",
    "import pandas as pd\n",
    "import numpy as np\n",
    "\n",
    "from itertools import combinations \n",
    "from pyrosetta.toolbox import *\n",
    "\n",
    "init(\"-default_max_cycles 200 -missing_density_to_jump -ex1 -ex2aro -ignore_zero_occupancy false -fa_max_dis 9 -mute all\")\n",
    "\n",
    "pose_path =  \"lowest_cart_relaxed_hg3.pdb\"\n",
    "pose = pose_from_pdb(pose_path)"
   ]
  },
  {
   "cell_type": "code",
   "execution_count": 229,
   "id": "18caff80-8d8b-4043-9df0-6fbfb1627424",
   "metadata": {
    "trusted": true
   },
   "outputs": [
    {
     "data": {
      "text/plain": "318"
     },
     "execution_count": 229,
     "metadata": {},
     "output_type": "execute_result"
    }
   ],
   "source": [
    "len(pose.sequence())"
   ]
  },
  {
   "cell_type": "code",
   "execution_count": 55,
   "id": "f329d28d-bfbd-4a25-8211-021196a31ad5",
   "metadata": {
    "trusted": true
   },
   "outputs": [
    {
     "data": {
      "text/plain": "'HIS_D:CtermProteinFull'"
     },
     "execution_count": 55,
     "metadata": {},
     "output_type": "execute_result"
    }
   ],
   "source": [
    "pose.residue(318).name()"
   ]
  },
  {
   "cell_type": "code",
   "execution_count": null,
   "id": "df6875ea-f1c8-4518-b9b6-46effc73de2b",
   "metadata": {
    "trusted": true
   },
   "outputs": [
    {
     "name": "stdout",
     "output_type": "stream",
     "text": "6360\n64\n"
    }
   ],
   "source": "\ndef mutate_repack_func4(pose, target_position, mutant, repack_radius, sfxn, ddg_bbnbrs=1, verbose=False, cartesian=True, max_iter=None):\n    import time\n    from pyrosetta.rosetta.core.pack.task import operation\n\n    #logger.warning(\"Interface mode not implemented (should be added!)\")\n    \n    if cartesian:\n        sfxn.set_weight(pyrosetta.rosetta.core.scoring.ScoreTypeManager.score_type_from_name('cart_bonded'), 0.5)\n        #sfxn.set_weight(atom_pair_constraint, 1)#0.5\n        sfxn.set_weight(pyrosetta.rosetta.core.scoring.ScoreTypeManager.score_type_from_name('pro_close'), 0)\n        #logger.warning(pyrosetta.rosetta.basic.options.get_boolean_option('ex1'))#set_boolean_option( '-ex1', True )\n        #pyrosetta.rosetta.basic.options.set_boolean_option( 'ex2', True )\n    \n    #Cloning of the pose including all settings\n    working_pose = pose.clone()\n\n    #Select mutant residue\n    mutant_selector = pyrosetta.rosetta.core.select.residue_selector.ResidueIndexSelector(target_position)\n    \n    #Select all except mutant\n    all_nand_mutant_selector = pyrosetta.rosetta.core.select.residue_selector.NotResidueSelector()\n    all_nand_mutant_selector.set_residue_selector(mutant_selector)\n\n    #Select neighbors with mutant\n    nbr_or_mutant_selector = pyrosetta.rosetta.core.select.residue_selector.NeighborhoodResidueSelector()\n    nbr_or_mutant_selector.set_focus(str(target_position))\n    nbr_or_mutant_selector.set_distance(repack_radius)\n    nbr_or_mutant_selector.set_include_focus_in_subset(True)\n\n    #Select mutant and it's sequence neighbors\n    seq_nbr_or_mutant_selector = pyrosetta.rosetta.core.select.residue_selector.PrimarySequenceNeighborhoodSelector(ddg_bbnbrs, ddg_bbnbrs, mutant_selector, False)            \n\n    #Select mutant, it's seq neighbors and it's surrounding neighbors\n    seq_nbr_or_nbr_or_mutant_selector = pyrosetta.rosetta.core.select.residue_selector.OrResidueSelector()\n    seq_nbr_or_nbr_or_mutant_selector.add_residue_selector(seq_nbr_or_mutant_selector)\n    seq_nbr_or_nbr_or_mutant_selector.add_residue_selector(nbr_or_mutant_selector)    \n\n    if verbose:\n        print(f'mutant_selector: {pyrosetta.rosetta.core.select.residue_selector.selection_positions(mutant_selector.apply(working_pose))}')\n        print(f'all_nand_mutant_selector: {pyrosetta.rosetta.core.select.residue_selector.selection_positions(all_nand_mutant_selector.apply(working_pose))}')\n        print(f'nbr_or_mutant_selector: {pyrosetta.rosetta.core.select.residue_selector.selection_positions(nbr_or_mutant_selector.apply(working_pose))}')\n        print(f'seq_nbr_or_mutant_selector: {pyrosetta.rosetta.core.select.residue_selector.selection_positions(seq_nbr_or_mutant_selector.apply(working_pose))}')\n        print(f'seq_nbr_or_nbr_or_mutant_selector: {pyrosetta.rosetta.core.select.residue_selector.selection_positions(seq_nbr_or_nbr_or_mutant_selector.apply(working_pose))}')\n     \n    \n    #Mutate residue and pack rotamers before relax\n    #if list(pose.sequence())[target_position-1] != mutant:\n        #generate packer task\n    tf = TaskFactory()\n    tf.push_back(operation.InitializeFromCommandline())\n    tf.push_back(operation.IncludeCurrent())\n\n    #Set all residues except mutant to false for design and repacking\n    prevent_repacking_rlt = operation.PreventRepackingRLT()\n    prevent_subset_repacking = operation.OperateOnResidueSubset(prevent_repacking_rlt, all_nand_mutant_selector, False )\n    tf.push_back(prevent_subset_repacking)\n\n    #Assign mutant residue to be designed and repacked\n    resfile_comm = pyrosetta.rosetta.protocols.task_operations.ResfileCommandOperation(mutant_selector, f\"PIKAA {mutant}\")\n    resfile_comm.set_command(f\"PIKAA {mutant}\")\n    tf.push_back(resfile_comm)\n\n    #Apply packing of rotamers of mutant\n    packer = pyrosetta.rosetta.protocols.minimization_packing.PackRotamersMover()\n    packer.score_function(sfxn)\n    packer.task_factory(tf)\n    if verbose:\n        logger.warning(tf.create_task_and_apply_taskoperations(working_pose))\n    packer.apply(working_pose)\n        \n    #allow the movement for bb for the mutant + seq. neighbors, and sc for neigbor in range, seq. neighbor and mutant\n    movemap = pyrosetta.rosetta.core.select.movemap.MoveMapFactory()\n    movemap.all_jumps(False)\n    movemap.add_bb_action(pyrosetta.rosetta.core.select.movemap.mm_enable, seq_nbr_or_mutant_selector)\n    movemap.add_chi_action(pyrosetta.rosetta.core.select.movemap.mm_enable, seq_nbr_or_nbr_or_mutant_selector)\n    \n    #for checking if all has been selected correctly\n    #if verbose:\n    mm  = movemap.create_movemap_from_pose(working_pose)\n    \n    logger.info(mm)\n\n    #Generate a TaskFactory\n    tf = TaskFactory()\n    tf.push_back(operation.InitializeFromCommandline())\n    tf.push_back(operation.IncludeCurrent())\n    #tf.push_back(operation.NoRepackDisulfides())\n\n    #prevent all residues except selected from design and repacking\n    prevent_repacking_rlt = operation.PreventRepackingRLT()\n    prevent_subset_repacking = operation.OperateOnResidueSubset(prevent_repacking_rlt, seq_nbr_or_nbr_or_mutant_selector, True )\n    tf.push_back(prevent_subset_repacking)\n\n    # allow selected residues only repacking (=switch off design)\n    restrict_repacking_rlt = operation.RestrictToRepackingRLT()\n    restrict_subset_repacking = operation.OperateOnResidueSubset(restrict_repacking_rlt , seq_nbr_or_nbr_or_mutant_selector, False)\n    tf.push_back(restrict_subset_repacking)\n\n\n    #Perform a FastRelax\n    fastrelax = pyrosetta.rosetta.protocols.relax.FastRelax()\n    fastrelax.set_scorefxn(sfxn)\n    \n    if cartesian:\n        fastrelax.cartesian(True)\n    if max_iter:\n        fastrelax.max_iter(max_iter)\n        \n    fastrelax.set_task_factory(tf)\n    fastrelax.set_movemap_factory(movemap)\n    fastrelax.set_movemap_disables_packing_of_fixed_chi_positions(True)\n    \n    if verbose:\n        logger.info(tf.create_task_and_apply_taskoperations(working_pose))\n    fastrelax.apply(working_pose)\n    return working_pose\n\ndef cart_ddg(site,res):\n    \n    newpose = pose.clone()\n    scores = []\n    \n    for i in range(3):\n        scorefxn = create_score_function(\"ref2015_cart\")\n        newpose = mutate_repack_func4(newpose,site, res, 6, scorefxn,verbose = False, cartesian = True)\n        news = scorefxn(newpose)\n        scores.append(news)\n    return scores\n\nall_as = sorted(list(set(pose.sequence())))\nsites = np.arange(1,len(pose.sequence()) + 1)\nassert len(all_as) == 20\n\ninputs_ = [[site,res] for site in sites for res in all_as]\nprint(len(inputs_))\ncores = os.cpu_count()\nprint(cores)\n\nwith multiprocessing.Pool(processes=cores) as pool:\n    results = pool.starmap(cart_ddg,inputs_)\n\nimport pickle\nwith open('hg3_base.pkl', 'wb') as f:\n    pickle.dump(results, f)"
  },
  {
   "cell_type": "code",
   "execution_count": null,
   "id": "1d757a17-c5ce-47f2-85ad-79ecc403db31",
   "metadata": {
    "trusted": true
   },
   "outputs": [],
   "source": "print(\"HI\")"
  },
  {
   "cell_type": "code",
   "execution_count": 59,
   "id": "62abd3cb-c3b5-437f-be6d-fdb91e10f749",
   "metadata": {
    "trusted": true
   },
   "outputs": [],
   "source": "with open('hg3_base_inputs_.pkl', 'wb') as f:\n    pickle.dump(inputs_, f)"
  },
  {
   "cell_type": "code",
   "execution_count": 71,
   "id": "1b61a94f-34f4-4e70-93ba-0dc873476fa8",
   "metadata": {
    "trusted": true
   },
   "outputs": [],
   "source": "results_df = pd.concat([pd.DataFrame(results).add_prefix(\"iter_\"), pd.DataFrame(inputs_).rename(columns = {0:\"site\", 1:\"AS\"})], axis=1)"
  },
  {
   "cell_type": "code",
   "execution_count": 228,
   "id": "47c0634f-e519-4d01-9145-e96865f9c347",
   "metadata": {
    "trusted": true
   },
   "outputs": [
    {
     "data": {
      "text/plain": "6360"
     },
     "execution_count": 228,
     "metadata": {},
     "output_type": "execute_result"
    }
   ],
   "source": "len(results)"
  },
  {
   "cell_type": "code",
   "execution_count": 81,
   "id": "a0cd6f6d-539b-4c00-9796-5862e1f47530",
   "metadata": {
    "trusted": true
   },
   "outputs": [],
   "source": "newl = [[x] * 20 for x in list(pose.sequence())]"
  },
  {
   "cell_type": "code",
   "execution_count": 85,
   "id": "b5faf009-575a-43fa-af8b-5fd11c419301",
   "metadata": {
    "trusted": true
   },
   "outputs": [],
   "source": "newl = [i for b in newl for i in b]"
  },
  {
   "cell_type": "code",
   "execution_count": 86,
   "id": "987a0dbd-0b9d-4853-8e15-502c368c48f0",
   "metadata": {
    "trusted": true
   },
   "outputs": [],
   "source": "results_df[\"wt\"] = newl"
  },
  {
   "cell_type": "code",
   "execution_count": 94,
   "id": "944be313-3b21-41bf-ac38-52730d4c10f3",
   "metadata": {
    "trusted": true
   },
   "outputs": [
    {
     "data": {
      "text/html": "<div>\n<style scoped>\n    .dataframe tbody tr th:only-of-type {\n        vertical-align: middle;\n    }\n\n    .dataframe tbody tr th {\n        vertical-align: top;\n    }\n\n    .dataframe thead th {\n        text-align: right;\n    }\n</style>\n<table border=\"1\" class=\"dataframe\">\n  <thead>\n    <tr style=\"text-align: right;\">\n      <th></th>\n      <th>iter_0</th>\n      <th>iter_1</th>\n      <th>iter_2</th>\n      <th>site</th>\n      <th>AS</th>\n      <th>wt</th>\n    </tr>\n  </thead>\n  <tbody>\n    <tr>\n      <th>5220</th>\n      <td>-1633.625488</td>\n      <td>-1632.821125</td>\n      <td>-1632.809370</td>\n      <td>262</td>\n      <td>A</td>\n      <td>S</td>\n    </tr>\n    <tr>\n      <th>5221</th>\n      <td>-1633.031263</td>\n      <td>-1633.009751</td>\n      <td>-1633.041426</td>\n      <td>262</td>\n      <td>C</td>\n      <td>S</td>\n    </tr>\n    <tr>\n      <th>5222</th>\n      <td>-1630.155572</td>\n      <td>-1629.826864</td>\n      <td>-1629.407498</td>\n      <td>262</td>\n      <td>D</td>\n      <td>S</td>\n    </tr>\n    <tr>\n      <th>5223</th>\n      <td>-1632.264704</td>\n      <td>-1630.984686</td>\n      <td>-1631.047056</td>\n      <td>262</td>\n      <td>E</td>\n      <td>S</td>\n    </tr>\n    <tr>\n      <th>5224</th>\n      <td>-1638.384636</td>\n      <td>-1637.384203</td>\n      <td>-1637.451840</td>\n      <td>262</td>\n      <td>F</td>\n      <td>S</td>\n    </tr>\n    <tr>\n      <th>5225</th>\n      <td>-1628.437889</td>\n      <td>-1627.284049</td>\n      <td>-1627.349413</td>\n      <td>262</td>\n      <td>G</td>\n      <td>S</td>\n    </tr>\n    <tr>\n      <th>5226</th>\n      <td>-1636.149473</td>\n      <td>-1634.971272</td>\n      <td>-1635.084748</td>\n      <td>262</td>\n      <td>H</td>\n      <td>S</td>\n    </tr>\n    <tr>\n      <th>5227</th>\n      <td>-1634.273550</td>\n      <td>-1633.532572</td>\n      <td>-1633.510524</td>\n      <td>262</td>\n      <td>I</td>\n      <td>S</td>\n    </tr>\n    <tr>\n      <th>5228</th>\n      <td>-1634.301202</td>\n      <td>-1633.594705</td>\n      <td>-1633.368081</td>\n      <td>262</td>\n      <td>K</td>\n      <td>S</td>\n    </tr>\n    <tr>\n      <th>5229</th>\n      <td>-1636.408688</td>\n      <td>-1635.661469</td>\n      <td>-1635.605673</td>\n      <td>262</td>\n      <td>L</td>\n      <td>S</td>\n    </tr>\n    <tr>\n      <th>5230</th>\n      <td>-1632.432007</td>\n      <td>-1631.915369</td>\n      <td>-1632.034108</td>\n      <td>262</td>\n      <td>M</td>\n      <td>S</td>\n    </tr>\n    <tr>\n      <th>5231</th>\n      <td>-1633.438875</td>\n      <td>-1632.585187</td>\n      <td>-1632.485617</td>\n      <td>262</td>\n      <td>N</td>\n      <td>S</td>\n    </tr>\n    <tr>\n      <th>5232</th>\n      <td>-1622.326755</td>\n      <td>-1621.718275</td>\n      <td>-1621.799666</td>\n      <td>262</td>\n      <td>P</td>\n      <td>S</td>\n    </tr>\n    <tr>\n      <th>5233</th>\n      <td>-1633.400224</td>\n      <td>-1632.961341</td>\n      <td>-1632.863786</td>\n      <td>262</td>\n      <td>Q</td>\n      <td>S</td>\n    </tr>\n    <tr>\n      <th>5234</th>\n      <td>-1633.738937</td>\n      <td>-1632.700302</td>\n      <td>-1632.698706</td>\n      <td>262</td>\n      <td>R</td>\n      <td>S</td>\n    </tr>\n    <tr>\n      <th>5235</th>\n      <td>-1632.242663</td>\n      <td>-1631.255270</td>\n      <td>-1631.193003</td>\n      <td>262</td>\n      <td>S</td>\n      <td>S</td>\n    </tr>\n    <tr>\n      <th>5236</th>\n      <td>-1633.333807</td>\n      <td>-1632.490425</td>\n      <td>-1632.602995</td>\n      <td>262</td>\n      <td>T</td>\n      <td>S</td>\n    </tr>\n    <tr>\n      <th>5237</th>\n      <td>-1635.391490</td>\n      <td>-1634.265392</td>\n      <td>-1634.246277</td>\n      <td>262</td>\n      <td>V</td>\n      <td>S</td>\n    </tr>\n    <tr>\n      <th>5238</th>\n      <td>-1635.243255</td>\n      <td>-1634.674156</td>\n      <td>-1634.862842</td>\n      <td>262</td>\n      <td>W</td>\n      <td>S</td>\n    </tr>\n    <tr>\n      <th>5239</th>\n      <td>-1638.492256</td>\n      <td>-1637.577285</td>\n      <td>-1637.610027</td>\n      <td>262</td>\n      <td>Y</td>\n      <td>S</td>\n    </tr>\n  </tbody>\n</table>\n</div>",
      "text/plain": "           iter_0       iter_1       iter_2  site AS wt\n5220 -1633.625488 -1632.821125 -1632.809370   262  A  S\n5221 -1633.031263 -1633.009751 -1633.041426   262  C  S\n5222 -1630.155572 -1629.826864 -1629.407498   262  D  S\n5223 -1632.264704 -1630.984686 -1631.047056   262  E  S\n5224 -1638.384636 -1637.384203 -1637.451840   262  F  S\n5225 -1628.437889 -1627.284049 -1627.349413   262  G  S\n5226 -1636.149473 -1634.971272 -1635.084748   262  H  S\n5227 -1634.273550 -1633.532572 -1633.510524   262  I  S\n5228 -1634.301202 -1633.594705 -1633.368081   262  K  S\n5229 -1636.408688 -1635.661469 -1635.605673   262  L  S\n5230 -1632.432007 -1631.915369 -1632.034108   262  M  S\n5231 -1633.438875 -1632.585187 -1632.485617   262  N  S\n5232 -1622.326755 -1621.718275 -1621.799666   262  P  S\n5233 -1633.400224 -1632.961341 -1632.863786   262  Q  S\n5234 -1633.738937 -1632.700302 -1632.698706   262  R  S\n5235 -1632.242663 -1631.255270 -1631.193003   262  S  S\n5236 -1633.333807 -1632.490425 -1632.602995   262  T  S\n5237 -1635.391490 -1634.265392 -1634.246277   262  V  S\n5238 -1635.243255 -1634.674156 -1634.862842   262  W  S\n5239 -1638.492256 -1637.577285 -1637.610027   262  Y  S"
     },
     "execution_count": 94,
     "metadata": {},
     "output_type": "execute_result"
    }
   ],
   "source": "results_df.loc[results_df.site == 262]"
  },
  {
   "cell_type": "code",
   "execution_count": 105,
   "id": "4ee61ab7-877a-4a60-b5e5-5ce194b19671",
   "metadata": {
    "trusted": true
   },
   "outputs": [],
   "source": "results_df[\"e_min\"] = results_df.apply(lambda x: x[[\"iter_0\", \"iter_1\", \"iter_2\"]].min(), axis=1)"
  },
  {
   "cell_type": "code",
   "execution_count": 126,
   "id": "81dae593-ce83-4f43-b65d-b68da9812a9a",
   "metadata": {
    "trusted": true
   },
   "outputs": [],
   "source": "def ddg_df(sub_df):\n    \n    wt_min = sub_df.loc[sub_df[\"AS\"] == sub_df[\"wt\"], \"e_min\"].values[0]\n    return sub_df[\"e_min\"].astype(float) - wt_min"
  },
  {
   "cell_type": "code",
   "execution_count": 137,
   "id": "17544d57-8b9f-46b5-8ec0-984ef06d9f11",
   "metadata": {
    "trusted": true
   },
   "outputs": [
    {
     "data": {
      "text/plain": "5360   -3.940947\n5361    6.286431\n5362    6.808921\n5363    6.314160\n5364    0.000000\n5365    2.412121\n5366    3.967802\n5367    2.786256\n5368    5.670689\n5369    0.540267\n5370   -0.387767\n5371    4.211200\n5372    1.833857\n5373    4.275715\n5374    3.817930\n5375    7.788693\n5376    7.502538\n5377    1.020159\n5378    1.403104\n5379    0.069857\nName: e_min, dtype: float64"
     },
     "execution_count": 137,
     "metadata": {},
     "output_type": "execute_result"
    }
   ],
   "source": "ddg_df(results_df.loc[results_df.site == 269])"
  },
  {
   "cell_type": "code",
   "execution_count": 134,
   "id": "c8c451de-be64-417f-a8a5-902450a11a8a",
   "metadata": {
    "trusted": true
   },
   "outputs": [],
   "source": "results_df[\"ddg\"] = results_df.groupby(\"site\").apply(ddg_df).reset_index(drop=True)"
  },
  {
   "cell_type": "code",
   "execution_count": 136,
   "id": "7b9378ab-d842-4f5d-9bfd-48666a65db6c",
   "metadata": {
    "trusted": true
   },
   "outputs": [
    {
     "data": {
      "text/html": "<div>\n<style scoped>\n    .dataframe tbody tr th:only-of-type {\n        vertical-align: middle;\n    }\n\n    .dataframe tbody tr th {\n        vertical-align: top;\n    }\n\n    .dataframe thead th {\n        text-align: right;\n    }\n</style>\n<table border=\"1\" class=\"dataframe\">\n  <thead>\n    <tr style=\"text-align: right;\">\n      <th></th>\n      <th>iter_0</th>\n      <th>iter_1</th>\n      <th>iter_2</th>\n      <th>site</th>\n      <th>AS</th>\n      <th>wt</th>\n      <th>e_min</th>\n      <th>ddg</th>\n    </tr>\n  </thead>\n  <tbody>\n    <tr>\n      <th>3119</th>\n      <td>-1645.980957</td>\n      <td>-1645.815413</td>\n      <td>-1645.857387</td>\n      <td>156</td>\n      <td>Y</td>\n      <td>P</td>\n      <td>-1645.980957</td>\n      <td>-14.330316</td>\n    </tr>\n    <tr>\n      <th>3104</th>\n      <td>-1645.573865</td>\n      <td>-1645.119329</td>\n      <td>-1644.970302</td>\n      <td>156</td>\n      <td>F</td>\n      <td>P</td>\n      <td>-1645.573865</td>\n      <td>-13.923224</td>\n    </tr>\n    <tr>\n      <th>3118</th>\n      <td>-1645.463928</td>\n      <td>-1644.439981</td>\n      <td>-1644.516454</td>\n      <td>156</td>\n      <td>W</td>\n      <td>P</td>\n      <td>-1645.463928</td>\n      <td>-13.813288</td>\n    </tr>\n    <tr>\n      <th>4818</th>\n      <td>-1644.064647</td>\n      <td>-1644.968821</td>\n      <td>-1644.356004</td>\n      <td>241</td>\n      <td>W</td>\n      <td>D</td>\n      <td>-1644.968821</td>\n      <td>-12.464130</td>\n    </tr>\n    <tr>\n      <th>3117</th>\n      <td>-1643.774205</td>\n      <td>-1642.911256</td>\n      <td>-1643.067028</td>\n      <td>156</td>\n      <td>V</td>\n      <td>P</td>\n      <td>-1643.774205</td>\n      <td>-12.123565</td>\n    </tr>\n    <tr>\n      <th>...</th>\n      <td>...</td>\n      <td>...</td>\n      <td>...</td>\n      <td>...</td>\n      <td>...</td>\n      <td>...</td>\n      <td>...</td>\n      <td>...</td>\n    </tr>\n    <tr>\n      <th>1698</th>\n      <td>-1590.807130</td>\n      <td>-1590.982154</td>\n      <td>-1590.972971</td>\n      <td>85</td>\n      <td>W</td>\n      <td>G</td>\n      <td>-1590.982154</td>\n      <td>40.750548</td>\n    </tr>\n    <tr>\n      <th>1686</th>\n      <td>-1590.241100</td>\n      <td>-1590.361308</td>\n      <td>-1590.440508</td>\n      <td>85</td>\n      <td>H</td>\n      <td>G</td>\n      <td>-1590.440508</td>\n      <td>41.292195</td>\n    </tr>\n    <tr>\n      <th>1694</th>\n      <td>-1588.214729</td>\n      <td>-1588.443151</td>\n      <td>-1588.525754</td>\n      <td>85</td>\n      <td>R</td>\n      <td>G</td>\n      <td>-1588.525754</td>\n      <td>43.206948</td>\n    </tr>\n    <tr>\n      <th>312</th>\n      <td>-1576.636048</td>\n      <td>-1575.796009</td>\n      <td>-1576.653745</td>\n      <td>16</td>\n      <td>P</td>\n      <td>G</td>\n      <td>-1576.653745</td>\n      <td>54.647775</td>\n    </tr>\n    <tr>\n      <th>1692</th>\n      <td>-1571.980486</td>\n      <td>-1572.222449</td>\n      <td>-1572.281375</td>\n      <td>85</td>\n      <td>P</td>\n      <td>G</td>\n      <td>-1572.281375</td>\n      <td>59.451327</td>\n    </tr>\n  </tbody>\n</table>\n<p>6360 rows × 8 columns</p>\n</div>",
      "text/plain": "           iter_0       iter_1       iter_2  site AS wt        e_min  \\\n3119 -1645.980957 -1645.815413 -1645.857387   156  Y  P -1645.980957   \n3104 -1645.573865 -1645.119329 -1644.970302   156  F  P -1645.573865   \n3118 -1645.463928 -1644.439981 -1644.516454   156  W  P -1645.463928   \n4818 -1644.064647 -1644.968821 -1644.356004   241  W  D -1644.968821   \n3117 -1643.774205 -1642.911256 -1643.067028   156  V  P -1643.774205   \n...           ...          ...          ...   ... .. ..          ...   \n1698 -1590.807130 -1590.982154 -1590.972971    85  W  G -1590.982154   \n1686 -1590.241100 -1590.361308 -1590.440508    85  H  G -1590.440508   \n1694 -1588.214729 -1588.443151 -1588.525754    85  R  G -1588.525754   \n312  -1576.636048 -1575.796009 -1576.653745    16  P  G -1576.653745   \n1692 -1571.980486 -1572.222449 -1572.281375    85  P  G -1572.281375   \n\n            ddg  \n3119 -14.330316  \n3104 -13.923224  \n3118 -13.813288  \n4818 -12.464130  \n3117 -12.123565  \n...         ...  \n1698  40.750548  \n1686  41.292195  \n1694  43.206948  \n312   54.647775  \n1692  59.451327  \n\n[6360 rows x 8 columns]"
     },
     "execution_count": 136,
     "metadata": {},
     "output_type": "execute_result"
    }
   ],
   "source": "results_df.sort_values(\"ddg\")"
  },
  {
   "cell_type": "code",
   "execution_count": 151,
   "id": "6e5153ff-9e31-4926-a29b-12dc3bb0f9b0",
   "metadata": {
    "trusted": true
   },
   "outputs": [
    {
     "data": {
      "text/html": "<div>\n<style scoped>\n    .dataframe tbody tr th:only-of-type {\n        vertical-align: middle;\n    }\n\n    .dataframe tbody tr th {\n        vertical-align: top;\n    }\n\n    .dataframe thead th {\n        text-align: right;\n    }\n</style>\n<table border=\"1\" class=\"dataframe\">\n  <thead>\n    <tr style=\"text-align: right;\">\n      <th></th>\n      <th>iter_0</th>\n      <th>iter_1</th>\n      <th>iter_2</th>\n      <th>site</th>\n      <th>AS</th>\n      <th>wt</th>\n      <th>e_min</th>\n      <th>ddg</th>\n    </tr>\n  </thead>\n  <tbody>\n    <tr>\n      <th>0</th>\n      <td>-1645.980957</td>\n      <td>-1645.815413</td>\n      <td>-1645.857387</td>\n      <td>156</td>\n      <td>Y</td>\n      <td>P</td>\n      <td>-1645.980957</td>\n      <td>-14.330316</td>\n    </tr>\n    <tr>\n      <th>1</th>\n      <td>-1645.573865</td>\n      <td>-1645.119329</td>\n      <td>-1644.970302</td>\n      <td>156</td>\n      <td>F</td>\n      <td>P</td>\n      <td>-1645.573865</td>\n      <td>-13.923224</td>\n    </tr>\n    <tr>\n      <th>2</th>\n      <td>-1645.463928</td>\n      <td>-1644.439981</td>\n      <td>-1644.516454</td>\n      <td>156</td>\n      <td>W</td>\n      <td>P</td>\n      <td>-1645.463928</td>\n      <td>-13.813288</td>\n    </tr>\n    <tr>\n      <th>3</th>\n      <td>-1643.774205</td>\n      <td>-1642.911256</td>\n      <td>-1643.067028</td>\n      <td>156</td>\n      <td>V</td>\n      <td>P</td>\n      <td>-1643.774205</td>\n      <td>-12.123565</td>\n    </tr>\n    <tr>\n      <th>4</th>\n      <td>-1643.555324</td>\n      <td>-1642.734794</td>\n      <td>-1642.640894</td>\n      <td>156</td>\n      <td>I</td>\n      <td>P</td>\n      <td>-1643.555324</td>\n      <td>-11.904684</td>\n    </tr>\n    <tr>\n      <th>5</th>\n      <td>-1643.306802</td>\n      <td>-1642.118814</td>\n      <td>-1642.155368</td>\n      <td>156</td>\n      <td>R</td>\n      <td>P</td>\n      <td>-1643.306802</td>\n      <td>-11.656161</td>\n    </tr>\n    <tr>\n      <th>6</th>\n      <td>-1643.236150</td>\n      <td>-1642.424428</td>\n      <td>-1642.457792</td>\n      <td>156</td>\n      <td>L</td>\n      <td>P</td>\n      <td>-1643.236150</td>\n      <td>-11.585509</td>\n    </tr>\n    <tr>\n      <th>7</th>\n      <td>-1642.973921</td>\n      <td>-1642.749398</td>\n      <td>-1642.877401</td>\n      <td>156</td>\n      <td>M</td>\n      <td>P</td>\n      <td>-1642.973921</td>\n      <td>-11.323281</td>\n    </tr>\n    <tr>\n      <th>8</th>\n      <td>-1642.147117</td>\n      <td>-1641.085781</td>\n      <td>-1641.260718</td>\n      <td>156</td>\n      <td>A</td>\n      <td>P</td>\n      <td>-1642.147117</td>\n      <td>-10.496476</td>\n    </tr>\n    <tr>\n      <th>9</th>\n      <td>-1641.633878</td>\n      <td>-1641.362622</td>\n      <td>-1641.434132</td>\n      <td>156</td>\n      <td>H</td>\n      <td>P</td>\n      <td>-1641.633878</td>\n      <td>-9.983238</td>\n    </tr>\n    <tr>\n      <th>10</th>\n      <td>-1641.582284</td>\n      <td>-1641.033353</td>\n      <td>-1640.814848</td>\n      <td>156</td>\n      <td>N</td>\n      <td>P</td>\n      <td>-1641.582284</td>\n      <td>-9.931643</td>\n    </tr>\n    <tr>\n      <th>11</th>\n      <td>-1641.395719</td>\n      <td>-1640.253257</td>\n      <td>-1639.824799</td>\n      <td>156</td>\n      <td>C</td>\n      <td>P</td>\n      <td>-1641.395719</td>\n      <td>-9.745079</td>\n    </tr>\n    <tr>\n      <th>12</th>\n      <td>-1641.160224</td>\n      <td>-1640.393024</td>\n      <td>-1639.854378</td>\n      <td>156</td>\n      <td>E</td>\n      <td>P</td>\n      <td>-1641.160224</td>\n      <td>-9.509583</td>\n    </tr>\n    <tr>\n      <th>13</th>\n      <td>-1640.989905</td>\n      <td>-1640.690618</td>\n      <td>-1640.710446</td>\n      <td>156</td>\n      <td>T</td>\n      <td>P</td>\n      <td>-1640.989905</td>\n      <td>-9.339264</td>\n    </tr>\n    <tr>\n      <th>14</th>\n      <td>-1640.721435</td>\n      <td>-1640.029266</td>\n      <td>-1640.045646</td>\n      <td>156</td>\n      <td>Q</td>\n      <td>P</td>\n      <td>-1640.721435</td>\n      <td>-9.070794</td>\n    </tr>\n    <tr>\n      <th>15</th>\n      <td>-1640.338838</td>\n      <td>-1639.282968</td>\n      <td>-1639.011617</td>\n      <td>156</td>\n      <td>S</td>\n      <td>P</td>\n      <td>-1640.338838</td>\n      <td>-8.688198</td>\n    </tr>\n    <tr>\n      <th>16</th>\n      <td>-1639.945492</td>\n      <td>-1638.981752</td>\n      <td>-1639.034534</td>\n      <td>156</td>\n      <td>K</td>\n      <td>P</td>\n      <td>-1639.945492</td>\n      <td>-8.294852</td>\n    </tr>\n    <tr>\n      <th>17</th>\n      <td>-1639.032361</td>\n      <td>-1638.610997</td>\n      <td>-1638.756295</td>\n      <td>156</td>\n      <td>D</td>\n      <td>P</td>\n      <td>-1639.032361</td>\n      <td>-7.381721</td>\n    </tr>\n    <tr>\n      <th>18</th>\n      <td>-1637.749712</td>\n      <td>-1637.170768</td>\n      <td>-1637.351169</td>\n      <td>156</td>\n      <td>G</td>\n      <td>P</td>\n      <td>-1637.749712</td>\n      <td>-6.099072</td>\n    </tr>\n    <tr>\n      <th>19</th>\n      <td>-1631.650641</td>\n      <td>-1630.437954</td>\n      <td>-1630.442554</td>\n      <td>156</td>\n      <td>P</td>\n      <td>P</td>\n      <td>-1631.650641</td>\n      <td>0.000000</td>\n    </tr>\n  </tbody>\n</table>\n</div>",
      "text/plain": "         iter_0       iter_1       iter_2  site AS wt        e_min        ddg\n0  -1645.980957 -1645.815413 -1645.857387   156  Y  P -1645.980957 -14.330316\n1  -1645.573865 -1645.119329 -1644.970302   156  F  P -1645.573865 -13.923224\n2  -1645.463928 -1644.439981 -1644.516454   156  W  P -1645.463928 -13.813288\n3  -1643.774205 -1642.911256 -1643.067028   156  V  P -1643.774205 -12.123565\n4  -1643.555324 -1642.734794 -1642.640894   156  I  P -1643.555324 -11.904684\n5  -1643.306802 -1642.118814 -1642.155368   156  R  P -1643.306802 -11.656161\n6  -1643.236150 -1642.424428 -1642.457792   156  L  P -1643.236150 -11.585509\n7  -1642.973921 -1642.749398 -1642.877401   156  M  P -1642.973921 -11.323281\n8  -1642.147117 -1641.085781 -1641.260718   156  A  P -1642.147117 -10.496476\n9  -1641.633878 -1641.362622 -1641.434132   156  H  P -1641.633878  -9.983238\n10 -1641.582284 -1641.033353 -1640.814848   156  N  P -1641.582284  -9.931643\n11 -1641.395719 -1640.253257 -1639.824799   156  C  P -1641.395719  -9.745079\n12 -1641.160224 -1640.393024 -1639.854378   156  E  P -1641.160224  -9.509583\n13 -1640.989905 -1640.690618 -1640.710446   156  T  P -1640.989905  -9.339264\n14 -1640.721435 -1640.029266 -1640.045646   156  Q  P -1640.721435  -9.070794\n15 -1640.338838 -1639.282968 -1639.011617   156  S  P -1640.338838  -8.688198\n16 -1639.945492 -1638.981752 -1639.034534   156  K  P -1639.945492  -8.294852\n17 -1639.032361 -1638.610997 -1638.756295   156  D  P -1639.032361  -7.381721\n18 -1637.749712 -1637.170768 -1637.351169   156  G  P -1637.749712  -6.099072\n19 -1631.650641 -1630.437954 -1630.442554   156  P  P -1631.650641   0.000000"
     },
     "execution_count": 151,
     "metadata": {},
     "output_type": "execute_result"
    }
   ],
   "source": "results_df.loc[results_df.site == 156].sort_values(\"ddg\").reset_index(drop=True)"
  },
  {
   "cell_type": "code",
   "execution_count": null,
   "id": "5a5eff3f-3fd9-46e4-ab05-94728790dc45",
   "metadata": {
    "trusted": true
   },
   "outputs": [],
   "source": ""
  },
  {
   "cell_type": "code",
   "execution_count": null,
   "id": "5e0e68d6-9579-49f6-bc40-88a8bea0a839",
   "metadata": {
    "trusted": true
   },
   "outputs": [],
   "source": ""
  },
  {
   "cell_type": "code",
   "execution_count": null,
   "id": "899d33d7-311e-40af-a72a-32da2ac6baec",
   "metadata": {
    "trusted": true
   },
   "outputs": [],
   "source": ""
  },
  {
   "cell_type": "code",
   "execution_count": 198,
   "id": "c19f4958-91a6-4cd0-945e-a3d13f28387b",
   "metadata": {
    "trusted": true
   },
   "outputs": [],
   "source": "prob_df = pd.read_csv(\"prob_df.csv\")\n\nprob_df = prob_df.div(prob_df.sum(axis=1), axis=0).fillna(0)\n\nprob_df = prob_df.reset_index() \nprob_df.rename(columns = {\"index\":\"site\"}, inplace=True)\nprob_df[\"site\"] += 1\n\nprob_list = []\n\nfor r,row in prob_df.iterrows():\n    prob_list.append([(row[\"site\"],b,a) for a,b in zip(row[1:], row[1:].index)])\n    \nprob_list = [i for b in prob_list for i in b]\n\nprob_df = pd.DataFrame(prob_list, columns = [\"site\",\"AS\", \"p\"])\n\nprob_df[\"id\"] = prob_df.apply(lambda x: x[\"AS\"] + str(int(x[\"site\"])), 1)\n\nresults_df[\"id\"] = results_df.apply(lambda x: x[\"AS\"] + str(int(x[\"site\"])), 1)\n\nnewr = pd.merge(results_df,prob_df[[\"id\",\"p\"]], how = \"left\", on = \"id\")\n\nnewr.dropna()[[\"ddg\",\"p\"]].corr()"
  },
  {
   "cell_type": "code",
   "execution_count": 208,
   "id": "3c9d8fb0-620a-421d-b3d9-88fe63b52514",
   "metadata": {
    "trusted": true
   },
   "outputs": [
    {
     "data": {
      "text/html": "<div>\n<style scoped>\n    .dataframe tbody tr th:only-of-type {\n        vertical-align: middle;\n    }\n\n    .dataframe tbody tr th {\n        vertical-align: top;\n    }\n\n    .dataframe thead th {\n        text-align: right;\n    }\n</style>\n<table border=\"1\" class=\"dataframe\">\n  <thead>\n    <tr style=\"text-align: right;\">\n      <th></th>\n      <th>ddg</th>\n      <th>p</th>\n    </tr>\n  </thead>\n  <tbody>\n    <tr>\n      <th>ddg</th>\n      <td>1.000000</td>\n      <td>0.011251</td>\n    </tr>\n    <tr>\n      <th>p</th>\n      <td>0.011251</td>\n      <td>1.000000</td>\n    </tr>\n  </tbody>\n</table>\n</div>",
      "text/plain": "          ddg         p\nddg  1.000000  0.011251\np    0.011251  1.000000"
     },
     "execution_count": 208,
     "metadata": {},
     "output_type": "execute_result"
    }
   ],
   "source": "newr.loc[newr.ddg < -1][[\"ddg\",\"p\"]].corr()"
  },
  {
   "cell_type": "code",
   "execution_count": 213,
   "id": "30844e70-4eb1-420c-9b65-fe573ef9892e",
   "metadata": {
    "trusted": true
   },
   "outputs": [
    {
     "data": {
      "text/html": "<div>\n<style scoped>\n    .dataframe tbody tr th:only-of-type {\n        vertical-align: middle;\n    }\n\n    .dataframe tbody tr th {\n        vertical-align: top;\n    }\n\n    .dataframe thead th {\n        text-align: right;\n    }\n</style>\n<table border=\"1\" class=\"dataframe\">\n  <thead>\n    <tr style=\"text-align: right;\">\n      <th></th>\n      <th>ddg</th>\n      <th>p</th>\n    </tr>\n  </thead>\n  <tbody>\n    <tr>\n      <th>ddg</th>\n      <td>1.00000</td>\n      <td>0.00769</td>\n    </tr>\n    <tr>\n      <th>p</th>\n      <td>0.00769</td>\n      <td>1.00000</td>\n    </tr>\n  </tbody>\n</table>\n</div>",
      "text/plain": "         ddg        p\nddg  1.00000  0.00769\np    0.00769  1.00000"
     },
     "execution_count": 213,
     "metadata": {},
     "output_type": "execute_result"
    }
   ],
   "source": "newr.loc[(newr.ddg < -1) & (newr.p != 0)].dropna()[[\"ddg\",\"p\"]].corr()"
  },
  {
   "cell_type": "code",
   "execution_count": 216,
   "id": "928e1a4b-29dd-426b-b1db-9cd09c274702",
   "metadata": {
    "trusted": true
   },
   "outputs": [
    {
     "data": {
      "text/plain": "0.05174984608216648"
     },
     "execution_count": 216,
     "metadata": {},
     "output_type": "execute_result"
    }
   ],
   "source": "newr.loc[(newr.ddg < -1) & (newr.p != 0)].dropna()[\"p\"].mean()"
  },
  {
   "cell_type": "code",
   "execution_count": 217,
   "id": "28b2713a-47b2-4f9f-9e42-86ad169cfc64",
   "metadata": {
    "trusted": true
   },
   "outputs": [
    {
     "data": {
      "text/plain": "0.07046363107011272"
     },
     "execution_count": 217,
     "metadata": {},
     "output_type": "execute_result"
    }
   ],
   "source": "newr.loc[(newr.ddg > -1) & (newr.p != 0)].dropna()[\"p\"].mean()"
  },
  {
   "cell_type": "code",
   "execution_count": 201,
   "id": "bf7b064f-ec22-4967-a5ee-be9fe4d39b13",
   "metadata": {
    "trusted": true
   },
   "outputs": [
    {
     "data": {
      "text/html": "<div>\n<style scoped>\n    .dataframe tbody tr th:only-of-type {\n        vertical-align: middle;\n    }\n\n    .dataframe tbody tr th {\n        vertical-align: top;\n    }\n\n    .dataframe thead th {\n        text-align: right;\n    }\n</style>\n<table border=\"1\" class=\"dataframe\">\n  <thead>\n    <tr style=\"text-align: right;\">\n      <th></th>\n      <th>ddg</th>\n      <th>p</th>\n    </tr>\n  </thead>\n  <tbody>\n    <tr>\n      <th>ddg</th>\n      <td>1.000000</td>\n      <td>-0.155168</td>\n    </tr>\n    <tr>\n      <th>p</th>\n      <td>-0.155168</td>\n      <td>1.000000</td>\n    </tr>\n  </tbody>\n</table>\n</div>",
      "text/plain": "          ddg         p\nddg  1.000000 -0.155168\np   -0.155168  1.000000"
     },
     "execution_count": 201,
     "metadata": {},
     "output_type": "execute_result"
    }
   ],
   "source": "newr.loc[newr.p != 0].dropna()[[\"ddg\",\"p\"]].corr()"
  },
  {
   "cell_type": "code",
   "execution_count": 227,
   "id": "25c22d43-44d6-450b-9e44-3c8bd1225a30",
   "metadata": {
    "trusted": true
   },
   "outputs": [
    {
     "data": {
      "text/html": "<div>\n<style scoped>\n    .dataframe tbody tr th:only-of-type {\n        vertical-align: middle;\n    }\n\n    .dataframe tbody tr th {\n        vertical-align: top;\n    }\n\n    .dataframe thead th {\n        text-align: right;\n    }\n</style>\n<table border=\"1\" class=\"dataframe\">\n  <thead>\n    <tr style=\"text-align: right;\">\n      <th></th>\n      <th>iter_0</th>\n      <th>iter_1</th>\n      <th>iter_2</th>\n      <th>site</th>\n      <th>AS</th>\n      <th>wt</th>\n      <th>e_min</th>\n      <th>ddg</th>\n      <th>id</th>\n    </tr>\n  </thead>\n  <tbody>\n    <tr>\n      <th>1500</th>\n      <td>-1630.394373</td>\n      <td>-1629.544735</td>\n      <td>-1630.568720</td>\n      <td>76</td>\n      <td>A</td>\n      <td>Q</td>\n      <td>-1630.568720</td>\n      <td>1.074586</td>\n      <td>A76</td>\n    </tr>\n    <tr>\n      <th>1501</th>\n      <td>-1630.527800</td>\n      <td>-1629.791971</td>\n      <td>-1629.943036</td>\n      <td>76</td>\n      <td>C</td>\n      <td>Q</td>\n      <td>-1630.527800</td>\n      <td>1.115506</td>\n      <td>C76</td>\n    </tr>\n    <tr>\n      <th>1502</th>\n      <td>-1632.146717</td>\n      <td>-1630.938347</td>\n      <td>-1630.936715</td>\n      <td>76</td>\n      <td>D</td>\n      <td>Q</td>\n      <td>-1632.146717</td>\n      <td>-0.503411</td>\n      <td>D76</td>\n    </tr>\n    <tr>\n      <th>1503</th>\n      <td>-1632.372015</td>\n      <td>-1631.421906</td>\n      <td>-1631.247713</td>\n      <td>76</td>\n      <td>E</td>\n      <td>Q</td>\n      <td>-1632.372015</td>\n      <td>-0.728709</td>\n      <td>E76</td>\n    </tr>\n    <tr>\n      <th>1504</th>\n      <td>-1633.152140</td>\n      <td>-1632.238954</td>\n      <td>-1632.130577</td>\n      <td>76</td>\n      <td>F</td>\n      <td>Q</td>\n      <td>-1633.152140</td>\n      <td>-1.508834</td>\n      <td>F76</td>\n    </tr>\n    <tr>\n      <th>1505</th>\n      <td>-1626.975147</td>\n      <td>-1626.093076</td>\n      <td>-1626.100571</td>\n      <td>76</td>\n      <td>G</td>\n      <td>Q</td>\n      <td>-1626.975147</td>\n      <td>4.668159</td>\n      <td>G76</td>\n    </tr>\n    <tr>\n      <th>1506</th>\n      <td>-1630.844112</td>\n      <td>-1629.920389</td>\n      <td>-1629.819821</td>\n      <td>76</td>\n      <td>H</td>\n      <td>Q</td>\n      <td>-1630.844112</td>\n      <td>0.799193</td>\n      <td>H76</td>\n    </tr>\n    <tr>\n      <th>1507</th>\n      <td>-1632.948727</td>\n      <td>-1631.726046</td>\n      <td>-1631.751137</td>\n      <td>76</td>\n      <td>I</td>\n      <td>Q</td>\n      <td>-1632.948727</td>\n      <td>-1.305421</td>\n      <td>I76</td>\n    </tr>\n    <tr>\n      <th>1508</th>\n      <td>-1629.880898</td>\n      <td>-1628.994579</td>\n      <td>-1629.015581</td>\n      <td>76</td>\n      <td>K</td>\n      <td>Q</td>\n      <td>-1629.880898</td>\n      <td>1.762407</td>\n      <td>K76</td>\n    </tr>\n    <tr>\n      <th>1509</th>\n      <td>-1634.321793</td>\n      <td>-1633.242258</td>\n      <td>-1634.128332</td>\n      <td>76</td>\n      <td>L</td>\n      <td>Q</td>\n      <td>-1634.321793</td>\n      <td>-2.678487</td>\n      <td>L76</td>\n    </tr>\n    <tr>\n      <th>1510</th>\n      <td>-1630.070456</td>\n      <td>-1630.068649</td>\n      <td>-1629.862175</td>\n      <td>76</td>\n      <td>M</td>\n      <td>Q</td>\n      <td>-1630.070456</td>\n      <td>1.572849</td>\n      <td>M76</td>\n    </tr>\n    <tr>\n      <th>1511</th>\n      <td>-1629.794422</td>\n      <td>-1629.158982</td>\n      <td>-1629.103405</td>\n      <td>76</td>\n      <td>N</td>\n      <td>Q</td>\n      <td>-1629.794422</td>\n      <td>1.848883</td>\n      <td>N76</td>\n    </tr>\n    <tr>\n      <th>1512</th>\n      <td>-1623.715130</td>\n      <td>-1622.516509</td>\n      <td>-1622.539638</td>\n      <td>76</td>\n      <td>P</td>\n      <td>Q</td>\n      <td>-1623.715130</td>\n      <td>7.928176</td>\n      <td>P76</td>\n    </tr>\n    <tr>\n      <th>1513</th>\n      <td>-1631.643306</td>\n      <td>-1630.072992</td>\n      <td>-1630.516088</td>\n      <td>76</td>\n      <td>Q</td>\n      <td>Q</td>\n      <td>-1631.643306</td>\n      <td>0.000000</td>\n      <td>Q76</td>\n    </tr>\n    <tr>\n      <th>1514</th>\n      <td>-1628.429687</td>\n      <td>-1627.628898</td>\n      <td>-1627.802832</td>\n      <td>76</td>\n      <td>R</td>\n      <td>Q</td>\n      <td>-1628.429687</td>\n      <td>3.213619</td>\n      <td>R76</td>\n    </tr>\n    <tr>\n      <th>1515</th>\n      <td>-1629.816897</td>\n      <td>-1628.964357</td>\n      <td>-1628.978634</td>\n      <td>76</td>\n      <td>S</td>\n      <td>Q</td>\n      <td>-1629.816897</td>\n      <td>1.826408</td>\n      <td>S76</td>\n    </tr>\n    <tr>\n      <th>1516</th>\n      <td>-1630.660234</td>\n      <td>-1629.644704</td>\n      <td>-1629.584285</td>\n      <td>76</td>\n      <td>T</td>\n      <td>Q</td>\n      <td>-1630.660234</td>\n      <td>0.983071</td>\n      <td>T76</td>\n    </tr>\n    <tr>\n      <th>1517</th>\n      <td>-1631.069827</td>\n      <td>-1630.291936</td>\n      <td>-1630.373359</td>\n      <td>76</td>\n      <td>V</td>\n      <td>Q</td>\n      <td>-1631.069827</td>\n      <td>0.573479</td>\n      <td>V76</td>\n    </tr>\n    <tr>\n      <th>1518</th>\n      <td>-1632.558712</td>\n      <td>-1631.280452</td>\n      <td>-1631.320946</td>\n      <td>76</td>\n      <td>W</td>\n      <td>Q</td>\n      <td>-1632.558712</td>\n      <td>-0.915406</td>\n      <td>W76</td>\n    </tr>\n    <tr>\n      <th>1519</th>\n      <td>-1632.995966</td>\n      <td>-1631.971226</td>\n      <td>-1631.736038</td>\n      <td>76</td>\n      <td>Y</td>\n      <td>Q</td>\n      <td>-1632.995966</td>\n      <td>-1.352660</td>\n      <td>Y76</td>\n    </tr>\n  </tbody>\n</table>\n</div>",
      "text/plain": "           iter_0       iter_1       iter_2  site AS wt        e_min  \\\n1500 -1630.394373 -1629.544735 -1630.568720    76  A  Q -1630.568720   \n1501 -1630.527800 -1629.791971 -1629.943036    76  C  Q -1630.527800   \n1502 -1632.146717 -1630.938347 -1630.936715    76  D  Q -1632.146717   \n1503 -1632.372015 -1631.421906 -1631.247713    76  E  Q -1632.372015   \n1504 -1633.152140 -1632.238954 -1632.130577    76  F  Q -1633.152140   \n1505 -1626.975147 -1626.093076 -1626.100571    76  G  Q -1626.975147   \n1506 -1630.844112 -1629.920389 -1629.819821    76  H  Q -1630.844112   \n1507 -1632.948727 -1631.726046 -1631.751137    76  I  Q -1632.948727   \n1508 -1629.880898 -1628.994579 -1629.015581    76  K  Q -1629.880898   \n1509 -1634.321793 -1633.242258 -1634.128332    76  L  Q -1634.321793   \n1510 -1630.070456 -1630.068649 -1629.862175    76  M  Q -1630.070456   \n1511 -1629.794422 -1629.158982 -1629.103405    76  N  Q -1629.794422   \n1512 -1623.715130 -1622.516509 -1622.539638    76  P  Q -1623.715130   \n1513 -1631.643306 -1630.072992 -1630.516088    76  Q  Q -1631.643306   \n1514 -1628.429687 -1627.628898 -1627.802832    76  R  Q -1628.429687   \n1515 -1629.816897 -1628.964357 -1628.978634    76  S  Q -1629.816897   \n1516 -1630.660234 -1629.644704 -1629.584285    76  T  Q -1630.660234   \n1517 -1631.069827 -1630.291936 -1630.373359    76  V  Q -1631.069827   \n1518 -1632.558712 -1631.280452 -1631.320946    76  W  Q -1632.558712   \n1519 -1632.995966 -1631.971226 -1631.736038    76  Y  Q -1632.995966   \n\n           ddg   id  \n1500  1.074586  A76  \n1501  1.115506  C76  \n1502 -0.503411  D76  \n1503 -0.728709  E76  \n1504 -1.508834  F76  \n1505  4.668159  G76  \n1506  0.799193  H76  \n1507 -1.305421  I76  \n1508  1.762407  K76  \n1509 -2.678487  L76  \n1510  1.572849  M76  \n1511  1.848883  N76  \n1512  7.928176  P76  \n1513  0.000000  Q76  \n1514  3.213619  R76  \n1515  1.826408  S76  \n1516  0.983071  T76  \n1517  0.573479  V76  \n1518 -0.915406  W76  \n1519 -1.352660  Y76  "
     },
     "execution_count": 227,
     "metadata": {},
     "output_type": "execute_result"
    }
   ],
   "source": "results_df.loc[results_df.site == 76]"
  },
  {
   "cell_type": "code",
   "execution_count": null,
   "id": "eaa2e283-22d3-4ce0-b867-21454b11f986",
   "metadata": {
    "trusted": true
   },
   "outputs": [],
   "source": ""
  },
  {
   "cell_type": "code",
   "execution_count": null,
   "id": "2587af2e-f42b-4d88-a9f2-6aecb449ff50",
   "metadata": {
    "trusted": true
   },
   "outputs": [],
   "source": ""
  },
  {
   "cell_type": "code",
   "execution_count": null,
   "id": "b36339f2-f653-4ebb-aef0-e74441e364a6",
   "metadata": {
    "trusted": true
   },
   "outputs": [],
   "source": ""
  },
  {
   "cell_type": "code",
   "execution_count": null,
   "id": "b9c4c842-5e2c-4afb-96bc-6554514cda09",
   "metadata": {
    "trusted": true
   },
   "outputs": [],
   "source": ""
  },
  {
   "cell_type": "code",
   "execution_count": null,
   "id": "e4a40b56-19c9-4f20-a645-d70bc2647167",
   "metadata": {
    "trusted": true
   },
   "outputs": [],
   "source": ""
  },
  {
   "cell_type": "code",
   "execution_count": null,
   "id": "a3f5de1b-b50b-4d9c-be60-98c179e2c33f",
   "metadata": {
    "trusted": true
   },
   "outputs": [],
   "source": ""
  },
  {
   "cell_type": "code",
   "execution_count": null,
   "id": "a2141a4c-22ed-4391-b247-03b2f102151b",
   "metadata": {
    "trusted": true
   },
   "outputs": [],
   "source": ""
  },
  {
   "cell_type": "code",
   "execution_count": null,
   "id": "453de551-b9f6-4cae-adc3-bc4cf646d93d",
   "metadata": {
    "trusted": true
   },
   "outputs": [],
   "source": ""
  },
  {
   "cell_type": "code",
   "execution_count": null,
   "id": "43e01a1f-5bf9-42b3-bcdd-ea4bbade3eb2",
   "metadata": {
    "trusted": true
   },
   "outputs": [],
   "source": ""
  },
  {
   "cell_type": "code",
   "execution_count": null,
   "id": "eaaec17a-f0f5-4212-a9b7-e4413f951ece",
   "metadata": {
    "trusted": true
   },
   "outputs": [],
   "source": ""
  },
  {
   "cell_type": "code",
   "execution_count": null,
   "id": "4fdce8ff-9d5c-406a-86bf-945539193d0b",
   "metadata": {
    "trusted": true
   },
   "outputs": [],
   "source": ""
  },
  {
   "cell_type": "code",
   "execution_count": null,
   "id": "914c966b-8526-4200-aafc-09a8d8eb59c7",
   "metadata": {
    "trusted": true
   },
   "outputs": [],
   "source": ""
  },
  {
   "cell_type": "code",
   "execution_count": null,
   "id": "ca6483d3-3c26-46e8-aa26-6e50b2ce62e2",
   "metadata": {
    "trusted": true
   },
   "outputs": [],
   "source": ""
  },
  {
   "cell_type": "code",
   "execution_count": null,
   "id": "3f07f3bc-8c2a-4b2c-b8d3-c735b9bb8e75",
   "metadata": {
    "trusted": true
   },
   "outputs": [],
   "source": ""
  },
  {
   "cell_type": "code",
   "execution_count": null,
   "id": "0ce946ca-7418-4840-aa46-e6959106afb2",
   "metadata": {
    "trusted": true
   },
   "outputs": [],
   "source": ""
  },
  {
   "cell_type": "code",
   "execution_count": null,
   "id": "1e3aa1d3-6c32-41fa-8c75-bb1765181beb",
   "metadata": {
    "trusted": true
   },
   "outputs": [],
   "source": ""
  },
  {
   "cell_type": "code",
   "execution_count": null,
   "id": "f77af17d-a787-4046-bc1e-c612c765a4c2",
   "metadata": {
    "trusted": true
   },
   "outputs": [],
   "source": ""
  }
 ],
 "metadata": {
  "kernelspec": {
   "display_name": "Python 3 (ipykernel)",
   "language": "python",
   "name": "python3"
  },
  "language_info": {
   "codemirror_mode": {
    "name": "ipython",
    "version": 3
   },
   "file_extension": ".py",
   "mimetype": "text/x-python",
   "name": "python",
   "nbconvert_exporter": "python",
   "pygments_lexer": "ipython3",
   "version": "3.8.12"
  }
 },
 "nbformat": 4,
 "nbformat_minor": 5
}